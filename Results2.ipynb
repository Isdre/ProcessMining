{
 "cells": [
  {
   "cell_type": "markdown",
   "metadata": {},
   "source": [
    "# Imports"
   ]
  },
  {
   "cell_type": "code",
   "execution_count": 1,
   "metadata": {},
   "outputs": [],
   "source": [
    "import pm4py\n",
    "import pandas as pd\n",
    "from TreeToTptp import TreeToTptp\n",
    "from ProverWrapper import use_provers\n",
    "from create_thesis_with_2_spec import create_thesis_with_2_spec, LogicFunctions\n",
    "import os"
   ]
  },
  {
   "cell_type": "code",
   "execution_count": 2,
   "metadata": {},
   "outputs": [],
   "source": [
    "def print_provers(provers):\n",
    "    print(provers[0])\n",
    "    print(f'Vampire: {provers[1]}')\n",
    "    print(f'Eprover: {provers[2]}')\n",
    "\n",
    "\n",
    "def provers_to_csv(provers):\n",
    "    print(','.join(provers))"
   ]
  },
  {
   "cell_type": "code",
   "execution_count": 3,
   "metadata": {},
   "outputs": [],
   "source": [
    "def create_problem_folder(folder_name, expr, spec, tptp, vampire, eprover):\n",
    "    os.makedirs(folder_name, exist_ok=True)\n",
    "    with open(f'{folder_name}/expression.txt', 'w') as f:\n",
    "        f.write(expr)\n",
    "    with open(f'{folder_name}/specification.txt', 'w') as f:\n",
    "        f.write(spec)\n",
    "    with open(f'{folder_name}/tptp.p', 'w') as f:\n",
    "        f.write(tptp)\n",
    "    with open(f'{folder_name}/vampire.txt', 'w') as f:\n",
    "        f.write(vampire)\n",
    "    with open(f'{folder_name}/eprover.txt', 'w') as f:\n",
    "        f.write(eprover)"
   ]
  },
  {
   "cell_type": "markdown",
   "metadata": {},
   "source": [
    "# Julia's problems"
   ]
  },
  {
   "cell_type": "code",
   "execution_count": 4,
   "metadata": {},
   "outputs": [
    {
     "name": "stderr",
     "output_type": "stream",
     "text": [
      "/home/jakub/miniconda3/envs/sat/lib/python3.13/site-packages/tqdm/auto.py:21: TqdmWarning: IProgress not found. Please update jupyter and ipywidgets. See https://ipywidgets.readthedocs.io/en/stable/user_install.html\n",
      "  from .autonotebook import tqdm as notebook_tqdm\n",
      "parsing log, completed traces :: 100%|██████████| 6/6 [00:00<00:00, 2335.14it/s]"
     ]
    },
    {
     "name": "stdout",
     "output_type": "stream",
     "text": [
      "Seq3(1]register_request, Loop(2]l_s0, Seq2(3]And2(4]a2_s0, check_ticket, Xor2(5]x2_s0, examine_casually, examine_thoroughly, x2_e0[5), a2_e0[4), decide[3), reinitiate_request[2), Xor2(2]x2_s1, pay_compensation, reject_request, x2_e1[2)[1)\n",
      "ini: register_request\n",
      "fin: x2_e1\n"
     ]
    },
    {
     "name": "stderr",
     "output_type": "stream",
     "text": [
      "\n",
      "/home/jakub/miniconda3/envs/sat/lib/python3.13/site-packages/pm4py/objects/conversion/log/variants/to_data_frame.py:73: UserWarning: no explicit representation of timezones available for np.datetime64\n",
      "  ev[attr] = np.datetime64(ev[attr])\n",
      "/home/jakub/miniconda3/envs/sat/lib/python3.13/site-packages/pm4py/objects/log/util/dataframe_utils.py:176: UserWarning: Could not infer format, so each element will be parsed individually, falling back to `dateutil`. To ensure parsing is consistent and as-expected, please specify a format.\n",
      "  df[col] = pd.to_datetime(df[col], utc=True)\n",
      "/home/jakub/miniconda3/envs/sat/lib/python3.13/site-packages/pm4py/objects/log/util/dataframe_utils.py:176: UserWarning: Could not infer format, so each element will be parsed individually, falling back to `dateutil`. To ensure parsing is consistent and as-expected, please specify a format.\n",
      "  df[col] = pd.to_datetime(df[col], utc=True)\n",
      "/home/jakub/miniconda3/envs/sat/lib/python3.13/site-packages/pm4py/objects/log/util/dataframe_utils.py:176: UserWarning: Could not infer format, so each element will be parsed individually, falling back to `dateutil`. To ensure parsing is consistent and as-expected, please specify a format.\n",
      "  df[col] = pd.to_datetime(df[col], utc=True)\n",
      "/home/jakub/miniconda3/envs/sat/lib/python3.13/site-packages/pm4py/objects/log/util/dataframe_utils.py:176: UserWarning: Could not infer format, so each element will be parsed individually, falling back to `dateutil`. To ensure parsing is consistent and as-expected, please specify a format.\n",
      "  df[col] = pd.to_datetime(df[col], utc=True)\n",
      "/home/jakub/miniconda3/envs/sat/lib/python3.13/site-packages/pm4py/objects/log/util/dataframe_utils.py:176: UserWarning: Could not infer format, so each element will be parsed individually, falling back to `dateutil`. To ensure parsing is consistent and as-expected, please specify a format.\n",
      "  df[col] = pd.to_datetime(df[col], utc=True)\n",
      "/home/jakub/miniconda3/envs/sat/lib/python3.13/site-packages/pm4py/objects/log/util/dataframe_utils.py:176: UserWarning: Could not infer format, so each element will be parsed individually, falling back to `dateutil`. To ensure parsing is consistent and as-expected, please specify a format.\n",
      "  df[col] = pd.to_datetime(df[col], utc=True)\n",
      "/home/jakub/miniconda3/envs/sat/lib/python3.13/site-packages/pm4py/objects/log/util/dataframe_utils.py:176: UserWarning: Could not infer format, so each element will be parsed individually, falling back to `dateutil`. To ensure parsing is consistent and as-expected, please specify a format.\n",
      "  df[col] = pd.to_datetime(df[col], utc=True)\n"
     ]
    }
   ],
   "source": [
    "folder = \"test\"\n",
    "\n",
    "log = pm4py.read_xes(\"Data/running-example.xes\")\n",
    "\n",
    "process_tree = pm4py.discover_process_tree_inductive(\n",
    "    log, 0.0, activity_key='concept:name', case_id_key='case:concept:name', timestamp_key='time:timestamp')\n",
    "expr, spec, tptp = TreeToTptp().tree_to_tptp(process_tree)\n",
    "vampire, eprover = use_provers(f'{folder}/tptp.p')\n",
    "create_problem_folder(folder, expr, spec, tptp, vampire, eprover)"
   ]
  }
 ],
 "metadata": {
  "kernelspec": {
   "display_name": "sat",
   "language": "python",
   "name": "python3"
  },
  "language_info": {
   "codemirror_mode": {
    "name": "ipython",
    "version": 3
   },
   "file_extension": ".py",
   "mimetype": "text/x-python",
   "name": "python",
   "nbconvert_exporter": "python",
   "pygments_lexer": "ipython3",
   "version": "3.13.0"
  }
 },
 "nbformat": 4,
 "nbformat_minor": 2
}
