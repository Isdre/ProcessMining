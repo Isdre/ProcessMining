{
 "cells": [
  {
   "cell_type": "markdown",
   "metadata": {},
   "source": [
    "# Imports"
   ]
  },
  {
   "cell_type": "code",
   "execution_count": 6,
   "metadata": {},
   "outputs": [],
   "source": [
    "import pm4py\n",
    "import pandas as pd\n",
    "from TreeToTptp import TreeToTptp\n",
    "from ProverWrapper import use_provers\n",
    "from create_thesis_with_2_spec import create_thesis_with_2_spec, LogicFunctions\n",
    "import os"
   ]
  },
  {
   "cell_type": "code",
   "execution_count": 7,
   "metadata": {},
   "outputs": [],
   "source": [
    "def print_provers(provers):\n",
    "    print(provers[0])\n",
    "    print(f'Vampire: {provers[1]}')\n",
    "    print(f'Eprover: {provers[2]}')\n",
    "\n",
    "\n",
    "def provers_to_csv(provers):\n",
    "    print(','.join(provers))"
   ]
  },
  {
   "cell_type": "code",
   "execution_count": 8,
   "metadata": {},
   "outputs": [],
   "source": [
    "def create_problem_folder(folder_name, expr, spec, tptp):\n",
    "    os.makedirs(folder_name, exist_ok=True)\n",
    "    with open(f'{folder_name}/expression.txt', 'w') as f:\n",
    "        f.write(expr)\n",
    "    with open(f'{folder_name}/specification.txt', 'w') as f:\n",
    "        f.write(spec)\n",
    "    with open(f'{folder_name}/tptp.p', 'w') as f:\n",
    "        f.write(tptp)\n",
    "    vampire, eprover = use_provers(f'{folder_name}/tptp.p')\n",
    "    with open(f'{folder_name}/vampire.txt', 'w') as f:\n",
    "        f.write(vampire)\n",
    "    with open(f'{folder_name}/eprover.txt', 'w') as f:\n",
    "        f.write(eprover)"
   ]
  },
  {
   "cell_type": "markdown",
   "metadata": {},
   "source": [
    "# Julia's problems"
   ]
  },
  {
   "cell_type": "code",
   "execution_count": 10,
   "metadata": {},
   "outputs": [
    {
     "name": "stderr",
     "output_type": "stream",
     "text": [
      "parsing log, completed traces :: 100%|██████████| 100000/100000 [00:14<00:00, 6871.01it/s]\n",
      "/home/jakub/miniconda3/envs/sat/lib/python3.13/site-packages/pm4py/objects/conversion/log/variants/to_data_frame.py:73: UserWarning: no explicit representation of timezones available for np.datetime64\n",
      "  ev[attr] = np.datetime64(ev[attr])\n",
      "/home/jakub/miniconda3/envs/sat/lib/python3.13/site-packages/pm4py/objects/log/util/dataframe_utils.py:176: UserWarning: Could not infer format, so each element will be parsed individually, falling back to `dateutil`. To ensure parsing is consistent and as-expected, please specify a format.\n",
      "  df[col] = pd.to_datetime(df[col], utc=True)\n",
      "/home/jakub/miniconda3/envs/sat/lib/python3.13/site-packages/pm4py/objects/log/util/dataframe_utils.py:176: UserWarning: Could not infer format, so each element will be parsed individually, falling back to `dateutil`. To ensure parsing is consistent and as-expected, please specify a format.\n",
      "  df[col] = pd.to_datetime(df[col], utc=True)\n",
      "/home/jakub/miniconda3/envs/sat/lib/python3.13/site-packages/pm4py/objects/log/util/dataframe_utils.py:176: UserWarning: Could not infer format, so each element will be parsed individually, falling back to `dateutil`. To ensure parsing is consistent and as-expected, please specify a format.\n",
      "  df[col] = pd.to_datetime(df[col], utc=True)\n",
      "/home/jakub/miniconda3/envs/sat/lib/python3.13/site-packages/pm4py/objects/log/util/dataframe_utils.py:176: UserWarning: Could not infer format, so each element will be parsed individually, falling back to `dateutil`. To ensure parsing is consistent and as-expected, please specify a format.\n",
      "  df[col] = pd.to_datetime(df[col], utc=True)\n",
      "/home/jakub/miniconda3/envs/sat/lib/python3.13/site-packages/pm4py/objects/log/util/dataframe_utils.py:176: UserWarning: Could not infer format, so each element will be parsed individually, falling back to `dateutil`. To ensure parsing is consistent and as-expected, please specify a format.\n",
      "  df[col] = pd.to_datetime(df[col], utc=True)\n",
      "/home/jakub/miniconda3/envs/sat/lib/python3.13/site-packages/pm4py/objects/log/util/dataframe_utils.py:176: UserWarning: Could not infer format, so each element will be parsed individually, falling back to `dateutil`. To ensure parsing is consistent and as-expected, please specify a format.\n",
      "  df[col] = pd.to_datetime(df[col], utc=True)\n",
      "/home/jakub/miniconda3/envs/sat/lib/python3.13/site-packages/pm4py/objects/log/util/dataframe_utils.py:176: UserWarning: Could not infer format, so each element will be parsed individually, falling back to `dateutil`. To ensure parsing is consistent and as-expected, please specify a format.\n",
      "  df[col] = pd.to_datetime(df[col], utc=True)\n",
      "/home/jakub/miniconda3/envs/sat/lib/python3.13/site-packages/pm4py/objects/log/util/dataframe_utils.py:176: UserWarning: Could not infer format, so each element will be parsed individually, falling back to `dateutil`. To ensure parsing is consistent and as-expected, please specify a format.\n",
      "  df[col] = pd.to_datetime(df[col], utc=True)\n",
      "/home/jakub/miniconda3/envs/sat/lib/python3.13/site-packages/pm4py/objects/log/util/dataframe_utils.py:176: UserWarning: Could not infer format, so each element will be parsed individually, falling back to `dateutil`. To ensure parsing is consistent and as-expected, please specify a format.\n",
      "  df[col] = pd.to_datetime(df[col], utc=True)\n",
      "/home/jakub/miniconda3/envs/sat/lib/python3.13/site-packages/pm4py/objects/log/util/dataframe_utils.py:176: UserWarning: Could not infer format, so each element will be parsed individually, falling back to `dateutil`. To ensure parsing is consistent and as-expected, please specify a format.\n",
      "  df[col] = pd.to_datetime(df[col], utc=True)\n",
      "/home/jakub/miniconda3/envs/sat/lib/python3.13/site-packages/pm4py/objects/log/util/dataframe_utils.py:176: UserWarning: Could not infer format, so each element will be parsed individually, falling back to `dateutil`. To ensure parsing is consistent and as-expected, please specify a format.\n",
      "  df[col] = pd.to_datetime(df[col], utc=True)\n"
     ]
    },
    {
     "name": "stdout",
     "output_type": "stream",
     "text": [
      "Seq2(1]Loop(2]l_s_A0, new, tau_A0[2), Xor2(2]x2_s_A0, tau_A1, And2(3]a2_s_A0, Xor2(4]x2_s_A1, tau_A2, Loop(5]l_s_A1, billed, tau_A3[5), x2_e_A1[4), Xor2(4]x2_s_A2, tau_A4, Seq2(5]And2(6]a2_s_A1, Xor2(7]x2_s_A3, tau_A5, Loop(8]l_s_A2, delete, tau_A6[8), x2_e_A3[7), Xor2(7]x2_s_A4, tau_A7, Seq2(8]Loop(9]l_s_A3, Xor3(10]x3_s_A5, Seq2(11]Xor2(12]x2_s_A6, tau_A8, Xor2(13]x2_s_A7, set_status, join_pat, x2_e_A7[13), x2_e_A7[12), Xor2(12]x2_s_A8, tau_A9, And2(13]a2_s_A2, Xor2(14]x2_s_A9, tau_A10, Loop(15]l_s_A4, code_error, tau_A11[15), x2_e_A9[14), Seq3(14]Xor2(15]x2_s_A10, tau_A12, Loop(16]l_s_A5, release, tau_A13[16), x2_e_A10[15), Xor2(15]x2_s_A11, tau_A14, Xor2(16]x2_s_A12, code_ok, manual, x2_e_A12[16), x2_e_A12[15), Xor2(15]x2_s_A13, tau_A15, And2(16]a2_s_A3, Xor2(17]x2_s_A14, tau_A16, Loop(18]l_s_A6, code_nok, tau_A17[18), x2_e_A14[17), Xor2(17]x2_s_A15, tau_A18, Seq2(18]Xor2(19]x2_s_A16, tau_A19, And2(20]a2_s_A4, Xor2(21]x2_s_A17, tau_A20, Loop(22]l_s_A7, reject, tau_A21[22), x2_e_A17[21), Xor2(21]x2_s_A18, tau_A22, Loop(22]l_s_A8, storno, tau_A23[22), x2_e_A18[21), a2_e_A4[20), x2_e_A18[19), Xor2(19]x2_s_A19, tau_A24, And2(20]a2_s_A5, Xor2(21]x2_s_A20, tau_A25, Loop(22]l_s_A9, reopen, tau_A26[22), x2_e_A20[21), Xor2(21]x2_s_A21, tau_A27, fin, x2_e_A21[21), a2_e_A5[20), x2_e_A21[19)[18), x2_e_A21[17), a2_e_A5[16), x2_e_A21[15)[14), a2_e_A5[13), x2_e_A21[12)[11), change_diagn, change_end, x3_e_A21[10), tau_A28[9), Xor2(9]x2_s_A22, tau_A29, empty, x2_e_A22[9)[8), x2_e_A22[7), a2_e_A5[6), Xor2(6]x2_s_A23, tau_A30, zdbc_behan, x2_e_A23[6)[5), x2_e_A23[4), a2_e_A5[3), x2_e_A23[2)[1)\n",
      "ini: l_s_A0\n",
      "fin: x2_e_A23\n"
     ]
    }
   ],
   "source": [
    "log = pm4py.read_xes('Data/Hospital Billing - Event Log.xes')\n",
    "\n",
    "process_tree = pm4py.discover_process_tree_inductive(\n",
    "    log, 0.0, activity_key='concept:name', case_id_key='case:concept:name', timestamp_key='time:timestamp')\n",
    "expr, spec, tptp = TreeToTptp('A').tree_to_tptp(process_tree)\n",
    "create_problem_folder(\"test\", expr, spec, tptp)"
   ]
  }
 ],
 "metadata": {
  "kernelspec": {
   "display_name": "sat",
   "language": "python",
   "name": "python3"
  },
  "language_info": {
   "codemirror_mode": {
    "name": "ipython",
    "version": 3
   },
   "file_extension": ".py",
   "mimetype": "text/x-python",
   "name": "python",
   "nbconvert_exporter": "python",
   "pygments_lexer": "ipython3",
   "version": "3.13.0"
  }
 },
 "nbformat": 4,
 "nbformat_minor": 2
}
